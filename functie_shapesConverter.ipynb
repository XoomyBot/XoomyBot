{
  "nbformat": 4,
  "nbformat_minor": 0,
  "metadata": {
    "colab": {
      "name": "functie shapesConverter.ipynb",
      "provenance": [],
      "collapsed_sections": [],
      "include_colab_link": true
    },
    "kernelspec": {
      "name": "python3",
      "display_name": "Python 3"
    },
    "accelerator": "GPU"
  },
  "cells": [
    {
      "cell_type": "markdown",
      "metadata": {
        "id": "view-in-github",
        "colab_type": "text"
      },
      "source": [
        "<a href=\"https://colab.research.google.com/github/XoomyBot/XoomyBot/blob/master/functie_shapesConverter.ipynb\" target=\"_parent\"><img src=\"https://colab.research.google.com/assets/colab-badge.svg\" alt=\"Open In Colab\"/></a>"
      ]
    },
    {
      "cell_type": "markdown",
      "metadata": {
        "id": "yROsZhR1p3Jo",
        "colab_type": "text"
      },
      "source": [
        "[![Open In Colab](https://colab.research.google.com/assets/colab-badge.svg)](https://colab.research.google.com/github/EAVISE/Beeldinterpretatie_Lab_Template/blob/master/colab_template.ipynb)"
      ]
    },
    {
      "cell_type": "code",
      "metadata": {
        "id": "Hb5AT_Fn2maP",
        "colab_type": "code",
        "colab": {
          "base_uri": "https://localhost:8080/",
          "height": 235
        },
        "outputId": "7838005a-f40f-40a4-fb90-4218e8331a92"
      },
      "source": [
        "# These lines will update the dependencies in this Jupyter notebook\n",
        "!pip install -qq -U 'datascience' 'albumentations==0.3.3'\n",
        "!pip install -qq  'opencv-python==4.1.1.26' --force-reinstall\n",
        "!pip install -qq 'ipywebrtc' 'mpld3'\n",
        "\n",
        "from __future__ import print_function\n",
        "from ipywidgets import interact, interactive, fixed, interact_manual\n",
        "import ipywidgets as widgets\n",
        "from IPython.display import *\n",
        "from google.colab.patches import cv2_imshow\n",
        "import cv2\n",
        "import numpy as np\n",
        "import matplotlib.pyplot as plt \n",
        "import copy\n",
        "import math\n",
        "\n",
        "import mpld3\n",
        "from mpld3 import plugins\n",
        "import time\n",
        "from tqdm import tqdm_notebook as tqdm\n",
        "\n",
        "font = cv2.FONT_HERSHEY_COMPLEX"
      ],
      "execution_count": 1,
      "outputs": [
        {
          "output_type": "stream",
          "text": [
            "\u001b[K     |████████████████████████████████| 51kB 4.4MB/s \n",
            "\u001b[K     |████████████████████████████████| 92kB 5.2MB/s \n",
            "\u001b[K     |████████████████████████████████| 92kB 8.7MB/s \n",
            "\u001b[K     |████████████████████████████████| 634kB 15.3MB/s \n",
            "\u001b[?25h  Building wheel for datascience (setup.py) ... \u001b[?25l\u001b[?25hdone\n",
            "  Building wheel for albumentations (setup.py) ... \u001b[?25l\u001b[?25hdone\n",
            "  Building wheel for imgaug (setup.py) ... \u001b[?25l\u001b[?25hdone\n",
            "\u001b[K     |████████████████████████████████| 28.7MB 108kB/s \n",
            "\u001b[K     |████████████████████████████████| 20.2MB 102kB/s \n",
            "\u001b[K     |████████████████████████████████| 1.1MB 9.9MB/s \n",
            "\u001b[K     |████████████████████████████████| 798kB 54.5MB/s \n",
            "\u001b[?25h  Building wheel for mpld3 (setup.py) ... \u001b[?25l\u001b[?25hdone\n"
          ],
          "name": "stdout"
        }
      ]
    },
    {
      "cell_type": "code",
      "metadata": {
        "id": "E8rOubKq1WlN",
        "colab_type": "code",
        "colab": {}
      },
      "source": [
        "def Moves(image):\n",
        "  matrix = 10\n",
        "  kernel = np.ones((matrix,matrix),np.uint8)\n",
        "  imagePath = image\n",
        "  gray = cv2.imread(imagePath, cv2.IMREAD_GRAYSCALE)\n",
        "  #plt.subplot(231),plt.imshow(cv2.cvtColor(gray, cv2.COLOR_BGR2RGB)),plt.title('gray')\n",
        "  #plt.axis(\"off\")\n",
        "  ret, th = cv2.threshold(gray, 150, 255, 0)\n",
        "  #plt.subplot(232),plt.imshow(cv2.cvtColor(th, cv2.COLOR_BGR2RGB)),plt.title('Threshold')\n",
        "  #plt.axis(\"off\")\n",
        "  opened = cv2.morphologyEx(th, cv2.MORPH_OPEN, kernel)\n",
        "  #plt.subplot(233),plt.imshow(cv2.cvtColor(opened, cv2.COLOR_BGR2RGB)),plt.title('opened')\n",
        "  #plt.axis(\"off\")\n",
        "  closed = cv2.morphologyEx(opened, cv2.MORPH_CLOSE, kernel)\n",
        "  #plt.subplot(234),plt.imshow(cv2.cvtColor(closed, cv2.COLOR_BGR2RGB)),plt.title('closed')\n",
        "  #plt.axis(\"off\")\n",
        "  image = gray\n",
        "  thresh = closed\n",
        "  contours, hierarchy = cv2.findContours(thresh, cv2.RETR_TREE, cv2.CHAIN_APPROX_SIMPLE)\n",
        "  points = []\n",
        "  for cnt in contours:\n",
        "      approx = cv2.approxPolyDP(cnt, 0.01*cv2.arcLength(cnt, True), True)\n",
        "      points.append(approx)\n",
        "      cv2.drawContours(image, [approx], 0, (0), 5) \n",
        "  #plt.imshow(cv2.cvtColor(image, cv2.COLOR_BGR2RGB)),plt.title('+contours')\n",
        "  #plt.axis(\"off\")\n",
        "  cont = []\n",
        "  for u in points: \n",
        "    shape = []\n",
        "    x = 0\n",
        "    for v in u:\n",
        "      for w in v:\n",
        "        if x == 0:\n",
        "          eerste_x = w[0] #het onthouden van de start om het contour te sluiten(anders zou er 1lijn vergeten worden)\n",
        "          eerste_y = w[1]\n",
        "          eerste = w\n",
        "        shape.append(w)\n",
        "      x = 1\n",
        "    shape.append(eerste)\n",
        "    cont.append(shape)\n",
        "  scaler = 100\n",
        "  x0 = 0 #oorsprong\n",
        "  y0 = 0\n",
        "  theta0 = 0 #rechts\n",
        "  moves = []\n",
        "  count = 0\n",
        "  for a in cont:\n",
        "    for b in a:\n",
        "      x1 = b[0]\n",
        "      y1 = b[1]\n",
        "      Dy = y1-y0\n",
        "      Dx = x1-x0\n",
        "      theta = math.atan(Dy/Dx)*(360/(2*math.pi))#omvormen naar graden\n",
        "      if count < 2:\n",
        "        dtheta = theta\n",
        "      else:\n",
        "        dtheta = theta-theta0 #foutje met nan!!\n",
        "      if Dx < 0:\n",
        "        if dtheta > 0:\n",
        "          dtheta = dtheta-180 #graden!!\n",
        "          theta = theta-180\n",
        "        else:\n",
        "          dtheta = dtheta+180 #graden!!\n",
        "          theta = theta+180\n",
        "      distance = ((Dx**2 + Dy**2)**0.5)/scaler\n",
        "      hoek = {\n",
        "          \"func\": \"turn\",\n",
        "          \"distance\": 0,\n",
        "          \"angle\": dtheta\n",
        "      }\n",
        "      vooruit =\t{\n",
        "          \"func\": \"straight\",\n",
        "          \"distance\": distance,\n",
        "          \"angle\": 0\n",
        "      }\n",
        "      moves.append(hoek)\n",
        "      moves.append(vooruit)\n",
        "      x0 = x1\n",
        "      y0 = y1\n",
        "      theta0 = theta\n",
        "      dtheta0 = dtheta\n",
        "      count = count+1\n",
        "      #print (hoek)\n",
        "      #print (vooruit)\n",
        "      #print(\"thetaEff= \" + str(theta0) + \"\\nthetaRel= \" + str(dtheta) + \"\\ndistance= \" + str(distance) + \"\\n-------------------------------\")\n",
        "    #print(\"-----------------------------------------------------\")\n",
        "  #print(moves)\n",
        "  return moves"
      ],
      "execution_count": 0,
      "outputs": []
    },
    {
      "cell_type": "code",
      "metadata": {
        "id": "D04EX4IWrbIU",
        "colab_type": "code",
        "outputId": "060db943-d071-4b08-ac75-647ad569344f",
        "colab": {
          "base_uri": "https://localhost:8080/",
          "height": 92
        }
      },
      "source": [
        "moves = Moves(\"/content/sample_data/vierkant.jpg\")\n",
        "print(moves)"
      ],
      "execution_count": 7,
      "outputs": [
        {
          "output_type": "stream",
          "text": [
            "[{'func': 'turn', 'distance': 0, 'angle': nan}, {'func': 'straight', 'distance': 0.0, 'angle': 0}, {'func': 'turn', 'distance': 0, 'angle': 90.0}, {'func': 'straight', 'distance': 3.99, 'angle': 0}, {'func': 'turn', 'distance': 0, 'angle': -90.0}, {'func': 'straight', 'distance': 3.99, 'angle': 0}, {'func': 'turn', 'distance': 0, 'angle': -90.0}, {'func': 'straight', 'distance': 3.99, 'angle': 0}, {'func': 'turn', 'distance': 0, 'angle': -90.0}, {'func': 'straight', 'distance': 3.99, 'angle': 0}]\n"
          ],
          "name": "stdout"
        },
        {
          "output_type": "stream",
          "text": [
            "/usr/local/lib/python3.6/dist-packages/ipykernel_launcher.py:53: RuntimeWarning: invalid value encountered in long_scalars\n",
            "/usr/local/lib/python3.6/dist-packages/ipykernel_launcher.py:53: RuntimeWarning: divide by zero encountered in int_scalars\n"
          ],
          "name": "stderr"
        }
      ]
    }
  ]
}